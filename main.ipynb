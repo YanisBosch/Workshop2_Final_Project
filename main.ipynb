{
 "cells": [
  {
   "cell_type": "code",
   "execution_count": 8,
   "metadata": {},
   "outputs": [],
   "source": [
    "import random\n",
    "import numpy as np"
   ]
  },
  {
   "cell_type": "code",
   "execution_count": 63,
   "metadata": {},
   "outputs": [
    {
     "name": "stdout",
     "output_type": "stream",
     "text": [
      "0 0 2 b 2 1 1 1 0 0 \n",
      "0 0 2 b 2 1 b 1 0 0 \n",
      "0 0 1 1 2 2 2 1 0 0 \n",
      "0 0 0 0 1 b 2 1 1 0 \n",
      "0 0 0 1 2 2 2 b 1 0 \n",
      "0 0 0 1 b 1 1 1 1 0 \n",
      "0 0 0 1 1 1 0 0 0 0 \n",
      "0 0 0 0 0 0 1 1 1 0 \n",
      "2 2 2 1 1 0 1 b 1 0 \n",
      "b b 2 b 1 0 1 1 1 0 \n",
      "\n"
     ]
    }
   ],
   "source": [
    "class playfield:\n",
    "    def __init__(self,size,numbombs,seed):\n",
    "        self.size = size\n",
    "        self.numbombs = numbombs\n",
    "        self.seed = seed\n",
    "        self.bombs = [[0 for x in range(self.size)] for y in range(self.size)]\n",
    "        self.playfield = [[0 for x in range(self.size)] for y in range(self.size)]\n",
    "\n",
    "    def __str__(self):\n",
    "        res = \"\"\n",
    "        for i in range(self.size):\n",
    "            for j in range(self.size):\n",
    "                res += str(self.bombs[i][j]) + \" \"\n",
    "            res += \"\\n\"\n",
    "        return(res)\n",
    "\n",
    "    def place_bombs(self):\n",
    "        random.seed(self.seed)\n",
    "        bombs = [[0 for x in range(self.size)] for y in range(self.size)]         #b = bomb, number = number of bombs next to square\n",
    "        free = [[x,y] for x in range(self.size) for y in range(self.size)]\n",
    "        for i in range(self.numbombs):\n",
    "            ind = random.randrange(len(free))\n",
    "            bomb = free[ind]\n",
    "            bombs[bomb[0]][bomb[1]] = \"b\"\n",
    "            free.remove(bomb)\n",
    "        self.bombs = bombs\n",
    "    \n",
    "    def count_bombs_one(self,i:int,j:int):\n",
    "        neighbours = [(min([max([i+x,0]),self.size-1]),min([max([j+y,0]),self.size-1])) for x in [-1,0,1] for y in [-1,0,1]]\n",
    "        neighbours = np.unique(neighbours,axis=0).tolist()\n",
    "        neighbours.remove([i,j])\n",
    "        \n",
    "        return([self.bombs[x[0]][x[1]] for x in neighbours].count(\"b\"))\n",
    "    \n",
    "    def count_bombs_all(self):\n",
    "        for i in range(self.size):\n",
    "            for j in range(self.size):\n",
    "                if self.bombs[i][j] != \"b\":\n",
    "                    self.bombs[i][j] = self.count_bombs_one(i,j)\n",
    "\n",
    "    def initialise_game(self):\n",
    "        self.place_bombs()\n",
    "        self.count_bombs_all()\n",
    "        \n",
    "pf = playfield(10,10,420)\n",
    "pf.initialise_game()\n",
    "print(pf)"
   ]
  }
 ],
 "metadata": {
  "kernelspec": {
   "display_name": "Python 3",
   "language": "python",
   "name": "python3"
  },
  "language_info": {
   "codemirror_mode": {
    "name": "ipython",
    "version": 3
   },
   "file_extension": ".py",
   "mimetype": "text/x-python",
   "name": "python",
   "nbconvert_exporter": "python",
   "pygments_lexer": "ipython3",
   "version": "3.12.6"
  }
 },
 "nbformat": 4,
 "nbformat_minor": 2
}
